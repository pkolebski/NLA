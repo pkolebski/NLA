{
 "cells": [
  {
   "cell_type": "code",
   "execution_count": 1,
   "metadata": {},
   "outputs": [],
   "source": [
    "import os\n",
    "import sys\n",
    "\n",
    "import pandas as pd\n",
    "import xml.etree.ElementTree as ET\n",
    "\n",
    "sys.path.append('..')\n",
    "\n",
    "from tagger import ClarinTagger"
   ]
  },
  {
   "cell_type": "markdown",
   "metadata": {},
   "source": [
    "### Load data"
   ]
  },
  {
   "cell_type": "code",
   "execution_count": 86,
   "metadata": {},
   "outputs": [],
   "source": [
    "data_path = '../wiki_data'\n",
    "\n",
    "processed_train_path = os.path.join(data_path, 'wiki_train_34_categories_data_processed')\n",
    "processed_test_path = os.path.join(data_path, 'wiki_test_34_categories_data_processed')"
   ]
  },
  {
   "cell_type": "code",
   "execution_count": 87,
   "metadata": {},
   "outputs": [],
   "source": [
    "def load_data(path):\n",
    "    df_data = pd.DataFrame()\n",
    "    with os.scandir(path) as it:\n",
    "        for entry in it:\n",
    "            if not entry.name.startswith('.') and entry.is_file():\n",
    "                df_data = df_data.append(pd.read_pickle(entry.path), ignore_index=True)\n",
    "    return df_data"
   ]
  },
  {
   "cell_type": "code",
   "execution_count": 88,
   "metadata": {},
   "outputs": [],
   "source": [
    "df_test = load_data(processed_test_path)"
   ]
  },
  {
   "cell_type": "code",
   "execution_count": 89,
   "metadata": {},
   "outputs": [
    {
     "data": {
      "text/plain": [
       "2957"
      ]
     },
     "execution_count": 89,
     "metadata": {},
     "output_type": "execute_result"
    }
   ],
   "source": [
    "len(df_test)"
   ]
  },
  {
   "cell_type": "code",
   "execution_count": 90,
   "metadata": {},
   "outputs": [
    {
     "data": {
      "text/html": [
       "<div>\n",
       "<style scoped>\n",
       "    .dataframe tbody tr th:only-of-type {\n",
       "        vertical-align: middle;\n",
       "    }\n",
       "\n",
       "    .dataframe tbody tr th {\n",
       "        vertical-align: top;\n",
       "    }\n",
       "\n",
       "    .dataframe thead th {\n",
       "        text-align: right;\n",
       "    }\n",
       "</style>\n",
       "<table border=\"1\" class=\"dataframe\">\n",
       "  <thead>\n",
       "    <tr style=\"text-align: right;\">\n",
       "      <th></th>\n",
       "      <th>text</th>\n",
       "      <th>cat</th>\n",
       "      <th>filename</th>\n",
       "      <th>tokens</th>\n",
       "    </tr>\n",
       "  </thead>\n",
       "  <tbody>\n",
       "    <tr>\n",
       "      <th>0</th>\n",
       "      <td>Giora Feidman (ur. 26 marca 1936 w Buenos Aire...</td>\n",
       "      <td>Zydzi</td>\n",
       "      <td>Zydzi_1625774.txt</td>\n",
       "      <td>[(Giora, ign), (Feidman, ign), ((, interp), (u...</td>\n",
       "    </tr>\n",
       "    <tr>\n",
       "      <th>1</th>\n",
       "      <td>Cztery rodzaje samadhi – praktyka medytacyjna ...</td>\n",
       "      <td>Kultura-Chin</td>\n",
       "      <td>Kultura-Chin_3106092.txt</td>\n",
       "      <td>[(cztery, num:pl:nom:m1:rec), (rodzaj, subst:p...</td>\n",
       "    </tr>\n",
       "    <tr>\n",
       "      <th>2</th>\n",
       "      <td>Dimetylotryptamina (DMT) – organiczny związek ...</td>\n",
       "      <td>Narkomania</td>\n",
       "      <td>Narkomania_67602.txt</td>\n",
       "      <td>[(Dimetylotryptamina, ign), ((, interp), (DMT,...</td>\n",
       "    </tr>\n",
       "    <tr>\n",
       "      <th>3</th>\n",
       "      <td>John C. Wright (ur. 1961) – amerykański autor ...</td>\n",
       "      <td>Amerykanscy-prozaicy</td>\n",
       "      <td>Amerykanscy-prozaicy_1887767.txt</td>\n",
       "      <td>[(John, subst:sg:nom:m1), (C, subst:sg:nom:m3)...</td>\n",
       "    </tr>\n",
       "    <tr>\n",
       "      <th>4</th>\n",
       "      <td>Force India VJM06''' – bolid Formuły 1 zespołu...</td>\n",
       "      <td>Samochody</td>\n",
       "      <td>Samochody_2867788.txt</td>\n",
       "      <td>[(Force, ign), (India, ign), (VJM06, ign), (',...</td>\n",
       "    </tr>\n",
       "  </tbody>\n",
       "</table>\n",
       "</div>"
      ],
      "text/plain": [
       "                                                text                   cat  \\\n",
       "0  Giora Feidman (ur. 26 marca 1936 w Buenos Aire...                 Zydzi   \n",
       "1  Cztery rodzaje samadhi – praktyka medytacyjna ...          Kultura-Chin   \n",
       "2  Dimetylotryptamina (DMT) – organiczny związek ...            Narkomania   \n",
       "3  John C. Wright (ur. 1961) – amerykański autor ...  Amerykanscy-prozaicy   \n",
       "4  Force India VJM06''' – bolid Formuły 1 zespołu...             Samochody   \n",
       "\n",
       "                           filename  \\\n",
       "0                 Zydzi_1625774.txt   \n",
       "1          Kultura-Chin_3106092.txt   \n",
       "2              Narkomania_67602.txt   \n",
       "3  Amerykanscy-prozaicy_1887767.txt   \n",
       "4             Samochody_2867788.txt   \n",
       "\n",
       "                                              tokens  \n",
       "0  [(Giora, ign), (Feidman, ign), ((, interp), (u...  \n",
       "1  [(cztery, num:pl:nom:m1:rec), (rodzaj, subst:p...  \n",
       "2  [(Dimetylotryptamina, ign), ((, interp), (DMT,...  \n",
       "3  [(John, subst:sg:nom:m1), (C, subst:sg:nom:m3)...  \n",
       "4  [(Force, ign), (India, ign), (VJM06, ign), (',...  "
      ]
     },
     "execution_count": 90,
     "metadata": {},
     "output_type": "execute_result"
    }
   ],
   "source": [
    "df_test.head()"
   ]
  },
  {
   "cell_type": "code",
   "execution_count": 92,
   "metadata": {},
   "outputs": [],
   "source": [
    "df_train = load_data(processed_train_path)"
   ]
  },
  {
   "cell_type": "code",
   "execution_count": 93,
   "metadata": {},
   "outputs": [
    {
     "data": {
      "text/plain": [
       "6509"
      ]
     },
     "execution_count": 93,
     "metadata": {},
     "output_type": "execute_result"
    }
   ],
   "source": [
    "len(df_train)"
   ]
  },
  {
   "cell_type": "code",
   "execution_count": 94,
   "metadata": {},
   "outputs": [
    {
     "data": {
      "text/html": [
       "<div>\n",
       "<style scoped>\n",
       "    .dataframe tbody tr th:only-of-type {\n",
       "        vertical-align: middle;\n",
       "    }\n",
       "\n",
       "    .dataframe tbody tr th {\n",
       "        vertical-align: top;\n",
       "    }\n",
       "\n",
       "    .dataframe thead th {\n",
       "        text-align: right;\n",
       "    }\n",
       "</style>\n",
       "<table border=\"1\" class=\"dataframe\">\n",
       "  <thead>\n",
       "    <tr style=\"text-align: right;\">\n",
       "      <th></th>\n",
       "      <th>text</th>\n",
       "      <th>cat</th>\n",
       "      <th>filename</th>\n",
       "      <th>tokens</th>\n",
       "    </tr>\n",
       "  </thead>\n",
       "  <tbody>\n",
       "    <tr>\n",
       "      <th>0</th>\n",
       "      <td>Pierwiastki biofilne, pierwiastki biogenne, nu...</td>\n",
       "      <td>Pierwiastki-chemiczne</td>\n",
       "      <td>Pierwiastki-chemiczne_1857348.txt</td>\n",
       "      <td>[(pierwiastek, subst:pl:nom:m3), (biofilny, ad...</td>\n",
       "    </tr>\n",
       "    <tr>\n",
       "      <th>1</th>\n",
       "      <td>Robocizna, to praca włożona w wykonanie określ...</td>\n",
       "      <td>Rachunkowosc</td>\n",
       "      <td>Rachunkowosc_1691781.txt</td>\n",
       "      <td>[(robocizna, subst:sg:nom:f), (,, interp), (to...</td>\n",
       "    </tr>\n",
       "    <tr>\n",
       "      <th>2</th>\n",
       "      <td>Jonathan Cheecho (ur. 15 lipca 1980 w Moose Fa...</td>\n",
       "      <td>Pilka-nozna</td>\n",
       "      <td>Pilka-nozna_3022011.txt</td>\n",
       "      <td>[(Jonathan, ign), (Cheecho, ign), ((, interp),...</td>\n",
       "    </tr>\n",
       "    <tr>\n",
       "      <th>3</th>\n",
       "      <td>Florin Daniel Bratu (ur. 2 stycznia 1980 w Buk...</td>\n",
       "      <td>Pilka-nozna</td>\n",
       "      <td>Pilka-nozna_2293521.txt</td>\n",
       "      <td>[(Florin, ign), (Daniel, subst:sg:nom:m1), (br...</td>\n",
       "    </tr>\n",
       "    <tr>\n",
       "      <th>4</th>\n",
       "      <td>Iterb (Yb, łac. ytterbium) – pierwiastek chemi...</td>\n",
       "      <td>Pierwiastki-chemiczne</td>\n",
       "      <td>Pierwiastki-chemiczne_30496.txt</td>\n",
       "      <td>[(iterb, subst:sg:nom:m3), ((, interp), (Yb, i...</td>\n",
       "    </tr>\n",
       "  </tbody>\n",
       "</table>\n",
       "</div>"
      ],
      "text/plain": [
       "                                                text                    cat  \\\n",
       "0  Pierwiastki biofilne, pierwiastki biogenne, nu...  Pierwiastki-chemiczne   \n",
       "1  Robocizna, to praca włożona w wykonanie określ...           Rachunkowosc   \n",
       "2  Jonathan Cheecho (ur. 15 lipca 1980 w Moose Fa...            Pilka-nozna   \n",
       "3  Florin Daniel Bratu (ur. 2 stycznia 1980 w Buk...            Pilka-nozna   \n",
       "4  Iterb (Yb, łac. ytterbium) – pierwiastek chemi...  Pierwiastki-chemiczne   \n",
       "\n",
       "                            filename  \\\n",
       "0  Pierwiastki-chemiczne_1857348.txt   \n",
       "1           Rachunkowosc_1691781.txt   \n",
       "2            Pilka-nozna_3022011.txt   \n",
       "3            Pilka-nozna_2293521.txt   \n",
       "4    Pierwiastki-chemiczne_30496.txt   \n",
       "\n",
       "                                              tokens  \n",
       "0  [(pierwiastek, subst:pl:nom:m3), (biofilny, ad...  \n",
       "1  [(robocizna, subst:sg:nom:f), (,, interp), (to...  \n",
       "2  [(Jonathan, ign), (Cheecho, ign), ((, interp),...  \n",
       "3  [(Florin, ign), (Daniel, subst:sg:nom:m1), (br...  \n",
       "4  [(iterb, subst:sg:nom:m3), ((, interp), (Yb, i...  "
      ]
     },
     "execution_count": 94,
     "metadata": {},
     "output_type": "execute_result"
    }
   ],
   "source": [
    "df_train.head()"
   ]
  },
  {
   "cell_type": "markdown",
   "metadata": {},
   "source": [
    "### Filtering"
   ]
  },
  {
   "cell_type": "code",
   "execution_count": 163,
   "metadata": {},
   "outputs": [],
   "source": [
    "def filter_tags(tokens, tags=None):\n",
    "    if tags:\n",
    "        return [x for x in tokens if x.tag.split(':')[0] in tags]\n",
    "    else:\n",
    "        return [x for x in tokens]"
   ]
  },
  {
   "cell_type": "code",
   "execution_count": 164,
   "metadata": {},
   "outputs": [],
   "source": [
    "def text_from_tokens(tokens):\n",
    "    return [x.text for x in tokens]"
   ]
  },
  {
   "cell_type": "code",
   "execution_count": 165,
   "metadata": {},
   "outputs": [],
   "source": [
    "def get_filtered_text(data, tags):\n",
    "    data['filtered_tokens'] = data['tokens'].apply(partial(filter_tags, tags=tags))\n",
    "    data['filtered_tokens_text'] = data['filtered_tokens'].apply(text_from_tokens)\n",
    "    data['filtered_tokens_text'] = data['filtered_tokens_text'].str.join(' ')\n",
    "    return data"
   ]
  },
  {
   "cell_type": "code",
   "execution_count": 115,
   "metadata": {},
   "outputs": [],
   "source": [
    "noun_forms = ['subst', 'depr']\n",
    "verb_forms = ['fin', 'bedzie', 'aglt', 'praet', 'impt', 'imps', 'inf', 'pcon', 'pant', 'ger', 'pact', 'ppas',]\n",
    "adjective_froms = ['adj', 'adja', 'adjc', 'adjp']"
   ]
  },
  {
   "cell_type": "code",
   "execution_count": 166,
   "metadata": {},
   "outputs": [],
   "source": [
    "df_train_base = get_filtered_text(df_train.copy(), None)\n",
    "df_test_base = get_filtered_text(df_test.copy(), None)\n",
    "\n",
    "df_train_nouns = get_filtered_text(df_train.copy(), noun_forms)\n",
    "df_test_nouns = get_filtered_text(df_test.copy(), noun_forms)\n",
    "\n",
    "df_train_verbs = get_filtered_text(df_train.copy(), verb_forms)\n",
    "df_test_verbs = get_filtered_text(df_test.copy(), verb_forms)\n",
    "\n",
    "df_train_adjs = get_filtered_text(df_train.copy(), adjective_froms)\n",
    "df_test_adjs = get_filtered_text(df_test.copy(), adjective_froms)"
   ]
  },
  {
   "cell_type": "code",
   "execution_count": 167,
   "metadata": {},
   "outputs": [
    {
     "data": {
      "text/html": [
       "<div>\n",
       "<style scoped>\n",
       "    .dataframe tbody tr th:only-of-type {\n",
       "        vertical-align: middle;\n",
       "    }\n",
       "\n",
       "    .dataframe tbody tr th {\n",
       "        vertical-align: top;\n",
       "    }\n",
       "\n",
       "    .dataframe thead th {\n",
       "        text-align: right;\n",
       "    }\n",
       "</style>\n",
       "<table border=\"1\" class=\"dataframe\">\n",
       "  <thead>\n",
       "    <tr style=\"text-align: right;\">\n",
       "      <th></th>\n",
       "      <th>text</th>\n",
       "      <th>cat</th>\n",
       "      <th>filename</th>\n",
       "      <th>tokens</th>\n",
       "      <th>tokens_text</th>\n",
       "      <th>filtered_tokens</th>\n",
       "      <th>filtered_tokens_text</th>\n",
       "    </tr>\n",
       "  </thead>\n",
       "  <tbody>\n",
       "    <tr>\n",
       "      <th>0</th>\n",
       "      <td>Pierwiastki biofilne, pierwiastki biogenne, nu...</td>\n",
       "      <td>Pierwiastki-chemiczne</td>\n",
       "      <td>Pierwiastki-chemiczne_1857348.txt</td>\n",
       "      <td>[(pierwiastek, subst:pl:nom:m3), (biofilny, ad...</td>\n",
       "      <td>pierwiastek biofilny , pierwiastek biogenny , ...</td>\n",
       "      <td>[(pierwiastek, subst:pl:nom:m3), (biofilny, ad...</td>\n",
       "      <td>pierwiastek biofilny , pierwiastek biogenny , ...</td>\n",
       "    </tr>\n",
       "    <tr>\n",
       "      <th>1</th>\n",
       "      <td>Robocizna, to praca włożona w wykonanie określ...</td>\n",
       "      <td>Rachunkowosc</td>\n",
       "      <td>Rachunkowosc_1691781.txt</td>\n",
       "      <td>[(robocizna, subst:sg:nom:f), (,, interp), (to...</td>\n",
       "      <td>robocizna , to praca włożyć w wykonanie określ...</td>\n",
       "      <td>[(robocizna, subst:sg:nom:f), (,, interp), (to...</td>\n",
       "      <td>robocizna , to praca włożyć w wykonanie określ...</td>\n",
       "    </tr>\n",
       "    <tr>\n",
       "      <th>2</th>\n",
       "      <td>Jonathan Cheecho (ur. 15 lipca 1980 w Moose Fa...</td>\n",
       "      <td>Pilka-nozna</td>\n",
       "      <td>Pilka-nozna_3022011.txt</td>\n",
       "      <td>[(Jonathan, ign), (Cheecho, ign), ((, interp),...</td>\n",
       "      <td>Jonathan Cheecho ( ur . 15 lipiec 1980 w Moose...</td>\n",
       "      <td>[(Jonathan, ign), (Cheecho, ign), ((, interp),...</td>\n",
       "      <td>Jonathan Cheecho ( ur . 15 lipiec 1980 w Moose...</td>\n",
       "    </tr>\n",
       "    <tr>\n",
       "      <th>3</th>\n",
       "      <td>Florin Daniel Bratu (ur. 2 stycznia 1980 w Buk...</td>\n",
       "      <td>Pilka-nozna</td>\n",
       "      <td>Pilka-nozna_2293521.txt</td>\n",
       "      <td>[(Florin, ign), (Daniel, subst:sg:nom:m1), (br...</td>\n",
       "      <td>Florin Daniel brat ( ur . 2 styczeń 1980 w Buk...</td>\n",
       "      <td>[(Florin, ign), (Daniel, subst:sg:nom:m1), (br...</td>\n",
       "      <td>Florin Daniel brat ( ur . 2 styczeń 1980 w Buk...</td>\n",
       "    </tr>\n",
       "    <tr>\n",
       "      <th>4</th>\n",
       "      <td>Iterb (Yb, łac. ytterbium) – pierwiastek chemi...</td>\n",
       "      <td>Pierwiastki-chemiczne</td>\n",
       "      <td>Pierwiastki-chemiczne_30496.txt</td>\n",
       "      <td>[(iterb, subst:sg:nom:m3), ((, interp), (Yb, i...</td>\n",
       "      <td>iterb ( Yb , łac . ytterbium ) – pierwiastek c...</td>\n",
       "      <td>[(iterb, subst:sg:nom:m3), ((, interp), (Yb, i...</td>\n",
       "      <td>iterb ( Yb , łac . ytterbium ) – pierwiastek c...</td>\n",
       "    </tr>\n",
       "  </tbody>\n",
       "</table>\n",
       "</div>"
      ],
      "text/plain": [
       "                                                text                    cat  \\\n",
       "0  Pierwiastki biofilne, pierwiastki biogenne, nu...  Pierwiastki-chemiczne   \n",
       "1  Robocizna, to praca włożona w wykonanie określ...           Rachunkowosc   \n",
       "2  Jonathan Cheecho (ur. 15 lipca 1980 w Moose Fa...            Pilka-nozna   \n",
       "3  Florin Daniel Bratu (ur. 2 stycznia 1980 w Buk...            Pilka-nozna   \n",
       "4  Iterb (Yb, łac. ytterbium) – pierwiastek chemi...  Pierwiastki-chemiczne   \n",
       "\n",
       "                            filename  \\\n",
       "0  Pierwiastki-chemiczne_1857348.txt   \n",
       "1           Rachunkowosc_1691781.txt   \n",
       "2            Pilka-nozna_3022011.txt   \n",
       "3            Pilka-nozna_2293521.txt   \n",
       "4    Pierwiastki-chemiczne_30496.txt   \n",
       "\n",
       "                                              tokens  \\\n",
       "0  [(pierwiastek, subst:pl:nom:m3), (biofilny, ad...   \n",
       "1  [(robocizna, subst:sg:nom:f), (,, interp), (to...   \n",
       "2  [(Jonathan, ign), (Cheecho, ign), ((, interp),...   \n",
       "3  [(Florin, ign), (Daniel, subst:sg:nom:m1), (br...   \n",
       "4  [(iterb, subst:sg:nom:m3), ((, interp), (Yb, i...   \n",
       "\n",
       "                                         tokens_text  \\\n",
       "0  pierwiastek biofilny , pierwiastek biogenny , ...   \n",
       "1  robocizna , to praca włożyć w wykonanie określ...   \n",
       "2  Jonathan Cheecho ( ur . 15 lipiec 1980 w Moose...   \n",
       "3  Florin Daniel brat ( ur . 2 styczeń 1980 w Buk...   \n",
       "4  iterb ( Yb , łac . ytterbium ) – pierwiastek c...   \n",
       "\n",
       "                                     filtered_tokens  \\\n",
       "0  [(pierwiastek, subst:pl:nom:m3), (biofilny, ad...   \n",
       "1  [(robocizna, subst:sg:nom:f), (,, interp), (to...   \n",
       "2  [(Jonathan, ign), (Cheecho, ign), ((, interp),...   \n",
       "3  [(Florin, ign), (Daniel, subst:sg:nom:m1), (br...   \n",
       "4  [(iterb, subst:sg:nom:m3), ((, interp), (Yb, i...   \n",
       "\n",
       "                                filtered_tokens_text  \n",
       "0  pierwiastek biofilny , pierwiastek biogenny , ...  \n",
       "1  robocizna , to praca włożyć w wykonanie określ...  \n",
       "2  Jonathan Cheecho ( ur . 15 lipiec 1980 w Moose...  \n",
       "3  Florin Daniel brat ( ur . 2 styczeń 1980 w Buk...  \n",
       "4  iterb ( Yb , łac . ytterbium ) – pierwiastek c...  "
      ]
     },
     "execution_count": 167,
     "metadata": {},
     "output_type": "execute_result"
    }
   ],
   "source": [
    "df_train_base.head()"
   ]
  },
  {
   "cell_type": "code",
   "execution_count": null,
   "metadata": {},
   "outputs": [],
   "source": []
  },
  {
   "cell_type": "markdown",
   "metadata": {},
   "source": [
    "### Classification"
   ]
  },
  {
   "cell_type": "code",
   "execution_count": 150,
   "metadata": {},
   "outputs": [],
   "source": [
    "from sklearn.feature_extraction.text import TfidfVectorizer, CountVectorizer,TfidfTransformer\n",
    "from sklearn.naive_bayes import MultinomialNB\n",
    "from sklearn import metrics\n",
    "from sklearn.pipeline import Pipeline"
   ]
  },
  {
   "cell_type": "code",
   "execution_count": 151,
   "metadata": {},
   "outputs": [],
   "source": [
    "pipeline = Pipeline([\n",
    "    ('vect', CountVectorizer()),\n",
    "    ('tfidf', TfidfTransformer(use_idf=True, smooth_idf=True)),\n",
    "    ('clf', MultinomialNB(alpha=1))\n",
    "])"
   ]
  },
  {
   "cell_type": "code",
   "execution_count": 161,
   "metadata": {},
   "outputs": [],
   "source": [
    "def compare_results(pipeline, datasets, descriptions, tagger_name):\n",
    "    df_results = pd.DataFrame(columns=['desc', 'f1', 'acc', 'prec', 'rec'])\n",
    "    for (train, test), desc in zip(datasets, descriptions):\n",
    "        train_X = train['tokens_text'].values\n",
    "        train_y = train['cat']\n",
    "        test_X = test['tokens_text'].values\n",
    "        test_y = test['cat']\n",
    "        pipeline.fit(train_X, train_y)\n",
    "        preds = pipeline.predict(test_X)\n",
    "        f1 = metrics.f1_score(y_true=y_test, y_pred=preds, average='macro')\n",
    "        rec = metrics.recall_score(y_true=y_test, y_pred=preds, average='macro')\n",
    "        prec = metrics.precision_score(y_true=y_test, y_pred=preds, average='macro')\n",
    "        acc = metrics.accuracy_score(y_true=y_test, y_pred=preds)\n",
    "        df_results.append({\n",
    "            'tagger': tagger_name,\n",
    "            'desc': desc,\n",
    "            'f1': f1,\n",
    "            'rec': rec,\n",
    "            'prec': prec,\n",
    "            'acc': acc\n",
    "        })\n",
    "    return df_results"
   ]
  },
  {
   "cell_type": "code",
   "execution_count": null,
   "metadata": {},
   "outputs": [],
   "source": [
    "df_results = compare_results(\n",
    "    pipeline=pipeline,\n",
    "    datasets=[[]]\n",
    ")"
   ]
  },
  {
   "cell_type": "code",
   "execution_count": 152,
   "metadata": {},
   "outputs": [],
   "source": [
    "train_X = df_train['tokens_text'].values\n",
    "train_y = df_train['cat']\n",
    "test_X = df_test['tokens_text'].values\n",
    "test_y = df_test['cat']      "
   ]
  },
  {
   "cell_type": "code",
   "execution_count": 155,
   "metadata": {},
   "outputs": [
    {
     "data": {
      "text/plain": [
       "Pipeline(steps=[('vect', CountVectorizer()), ('tfidf', TfidfTransformer()),\n",
       "                ('clf', MultinomialNB(alpha=1))])"
      ]
     },
     "execution_count": 155,
     "metadata": {},
     "output_type": "execute_result"
    }
   ],
   "source": [
    "pipeline.fit(train_X, train_y)"
   ]
  },
  {
   "cell_type": "code",
   "execution_count": 156,
   "metadata": {},
   "outputs": [],
   "source": [
    "preds = pipeline.predict(test_X)"
   ]
  },
  {
   "cell_type": "code",
   "execution_count": 159,
   "metadata": {},
   "outputs": [
    {
     "name": "stdout",
     "output_type": "stream",
     "text": [
      "                                   precision    recall  f1-score   support\n",
      "\n",
      "                          Albania       0.90      0.61      0.73        92\n",
      "             Amerykanscy-prozaicy       0.76      0.99      0.86       103\n",
      "                         Arabowie       1.00      0.21      0.35        33\n",
      "                     Astronautyka       0.90      0.85      0.87        93\n",
      "                          Choroby       0.91      0.89      0.90        81\n",
      "                            Egipt       0.88      0.71      0.78        92\n",
      "                  Ekologia-roslin       0.85      0.95      0.90        86\n",
      "                  Filmy-animowane       0.96      0.85      0.90        92\n",
      "                    Galezie-prawa       0.95      0.41      0.57        90\n",
      "                  Gry-komputerowe       0.94      0.90      0.92        98\n",
      "                       Karkonosze       0.86      0.99      0.92        82\n",
      "                       Katolicyzm       0.78      0.95      0.86        84\n",
      "                          Komiksy       0.80      0.88      0.84        84\n",
      "                        Komputery       0.96      0.99      0.98       100\n",
      "                         Kotowate       1.00      0.93      0.96        59\n",
      "                     Kultura-Chin       0.94      0.91      0.92        88\n",
      "                           Monety       0.99      1.00      0.99        97\n",
      "                   Muzyka-powazna       0.87      0.85      0.86        93\n",
      "                      Narciarstwo       0.96      0.93      0.94        91\n",
      "                       Narkomania       0.89      0.86      0.87        92\n",
      "               Niemieccy-wojskowi       0.38      0.99      0.54        76\n",
      "                           Optyka       0.96      0.85      0.90        88\n",
      "            Pierwiastki-chemiczne       0.99      1.00      0.99        87\n",
      "                      Pilka-nozna       0.95      1.00      0.97        78\n",
      "            Propaganda-polityczna       0.79      0.65      0.71        86\n",
      "                     Rachunkowosc       0.86      0.91      0.89        93\n",
      "                        Samochody       0.99      0.94      0.96        83\n",
      "                         Samoloty       0.72      1.00      0.84        71\n",
      "                    Sporty-silowe       0.95      0.98      0.96        90\n",
      "System-opieki-zdrowotnej-w-Polsce       0.75      0.93      0.83        95\n",
      "                           Szachy       0.96      0.97      0.96        91\n",
      "                  Wojska-pancerne       0.95      0.95      0.95        93\n",
      "                          Zegluga       0.97      0.70      0.81        83\n",
      "                            Zydzi       1.00      0.48      0.65       108\n",
      "                         contents       0.00      0.00      0.00         1\n",
      "                           dublin       0.00      0.00      0.00         1\n",
      "                           handle       0.00      0.00      0.00         1\n",
      "                      license.txt       0.00      0.00      0.00         1\n",
      "                         metadata       0.00      0.00      0.00         1\n",
      "\n",
      "                         accuracy                           0.86      2957\n",
      "                        macro avg       0.78      0.74      0.74      2957\n",
      "                     weighted avg       0.89      0.86      0.86      2957\n",
      "\n"
     ]
    }
   ],
   "source": [
    "print(metrics.classification_report(y_true=test_y, y_pred=preds))"
   ]
  },
  {
   "cell_type": "code",
   "execution_count": null,
   "metadata": {},
   "outputs": [],
   "source": []
  },
  {
   "cell_type": "code",
   "execution_count": 138,
   "metadata": {},
   "outputs": [],
   "source": [
    "# loading CountVectorizer\n",
    "tf_vectorizer = CountVectorizer() # or term frequency\n",
    "\n",
    "X_train_tf = tf_vectorizer.fit_transform(df_train['tokens_text'])\n",
    "\n",
    "\n"
   ]
  }
 ],
 "metadata": {
  "kernelspec": {
   "display_name": "Python [conda env:nlp]",
   "language": "python",
   "name": "conda-env-nlp-py"
  },
  "language_info": {
   "codemirror_mode": {
    "name": "ipython",
    "version": 3
   },
   "file_extension": ".py",
   "mimetype": "text/x-python",
   "name": "python",
   "nbconvert_exporter": "python",
   "pygments_lexer": "ipython3",
   "version": "3.8.5"
  }
 },
 "nbformat": 4,
 "nbformat_minor": 4
}
